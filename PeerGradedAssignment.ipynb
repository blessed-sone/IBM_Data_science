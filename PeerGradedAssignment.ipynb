{
 "cells": [
  {
   "cell_type": "markdown",
   "id": "fde6468f-3bc1-485a-bde2-c0d13798587c",
   "metadata": {},
   "source": [
    "# Data Science Tools and Ecosystem"
   ]
  },
  {
   "cell_type": "markdown",
   "id": "5be642d2-b113-4009-abec-9a03952f86f2",
   "metadata": {},
   "source": [
    "In this notebook, Data Science Tools and Ecosystem are summarized."
   ]
  },
  {
   "cell_type": "markdown",
   "id": "211530bc-2995-4e15-b457-a6b597c068b7",
   "metadata": {},
   "source": [
    "___Objectives___\n",
    "We covered the following concepts:\n",
    "* listed commonly used Data Science programming languages\n",
    "* listed Some Data Science Libraries\n",
    "* list Some Data Science Tools\n",
    "* perfomed simple arithmetic expressions\n",
    "* Formatting items in a notebook table or an ordered or unordered list\n"
   ]
  },
  {
   "cell_type": "markdown",
   "id": "01b8d48d-15f3-48b7-9203-e06eab49a5c6",
   "metadata": {},
   "source": [
    "___Some of the most commonly used programming languages in Data Science are:___\n",
    "1. Python\n",
    "2. SQL\n",
    "3. R\n",
    "\n",
    "others include:\n",
    "\n",
    "4. Julia\n",
    "5. Java\n",
    "6. Matlab"
   ]
  },
  {
   "cell_type": "markdown",
   "id": "7e8a4871-37ec-4f4d-b097-e41bb669075d",
   "metadata": {},
   "source": [
    "___*There are Data Science libraries compartibible with Python and R. Some commonly used Data Science libraries are:*___"
   ]
  },
  {
   "cell_type": "markdown",
   "id": "68fe6615-f72b-437f-810c-1295fc25dfd5",
   "metadata": {},
   "source": [
    "Python Libraries\n",
    "1. Pandas\n",
    "2. Numpy\n",
    "3. TensorFlow\n",
    "4. Scikit-learn\n",
    "5. Matplotlib\n",
    "6. Seaborn\n",
    "7. SciPy\n",
    "\n",
    "R Libraries\n",
    "\n",
    "1. ggplot2\n",
    "2. dplyr\n",
    "3. caret\n",
    "4. stringr\n"
   ]
  },
  {
   "cell_type": "markdown",
   "id": "9086265c-8a28-4f3d-8679-fad6582e6af2",
   "metadata": {},
   "source": [
    "___Hear are some commonly used Data Science Tools___"
   ]
  },
  {
   "cell_type": "markdown",
   "id": "deda5466-9b97-4484-a88e-da76ff140c54",
   "metadata": {},
   "source": [
    "|Data Science Tools|\n",
    "-------------------\n",
    "|Jupyter Notebook|\n",
    "|R StudiO|\n",
    "|Apache Zeppelin|\n"
   ]
  },
  {
   "cell_type": "markdown",
   "id": "e8c1e5dc-8222-45e4-b044-7f35ab878601",
   "metadata": {},
   "source": [
    "### Below are a few examples of evaluating arithmetic expressions in Python"
   ]
  },
  {
   "cell_type": "code",
   "execution_count": 1,
   "id": "4dff1c56-c796-4e96-862e-ccb8070456c8",
   "metadata": {},
   "outputs": [
    {
     "name": "stdin",
     "output_type": "stream",
     "text": [
      "Enter number >:  3\n",
      "Enter secondNumb >:  4\n"
     ]
    },
    {
     "name": "stdout",
     "output_type": "stream",
     "text": [
      "the sum of these numbers are: 7\n"
     ]
    }
   ],
   "source": [
    "a = int(input(\"Enter number >: \"))\n",
    "b = int(input(\"Enter secondNumb >: \"))\n",
    "print(f\"the sum of these numbers are: {a + b}\")"
   ]
  },
  {
   "cell_type": "markdown",
   "id": "e8276d79-91b1-48a3-8436-412d78f957be",
   "metadata": {},
   "source": [
    "### This a simple arithmetic expression to mutiply then add integers."
   ]
  },
  {
   "cell_type": "code",
   "execution_count": 2,
   "id": "3b385c3f-aff0-45c4-ad31-c3fc229190cd",
   "metadata": {},
   "outputs": [
    {
     "data": {
      "text/plain": [
       "333"
      ]
     },
     "execution_count": 2,
     "metadata": {},
     "output_type": "execute_result"
    }
   ],
   "source": [
    "result = 6 * 56 + 3 - 6\n",
    "result"
   ]
  },
  {
   "cell_type": "markdown",
   "id": "1167f541-a4a7-437a-84e1-01f780956541",
   "metadata": {},
   "source": [
    " ### This will convert 200 minutes to hours by diving by 60"
   ]
  },
  {
   "cell_type": "code",
   "execution_count": 3,
   "id": "1fb79441-b61f-495d-bef5-70c1e437fb68",
   "metadata": {},
   "outputs": [
    {
     "name": "stdout",
     "output_type": "stream",
     "text": [
      "200 minutes is equivalent to: 3 hours\n"
     ]
    }
   ],
   "source": [
    "mins = 200\n",
    "print(f\"200 minutes is equivalent to: {mins//60} hours\")"
   ]
  },
  {
   "cell_type": "code",
   "execution_count": null,
   "id": "73ab8c93-4586-4e82-ae3d-5be85c856d37",
   "metadata": {},
   "outputs": [],
   "source": []
  },
  {
   "cell_type": "markdown",
   "id": "6eae68c0-6fe9-4b7f-988d-3bf75d2004bb",
   "metadata": {},
   "source": [
    "## Author\n",
    "Sone Eric Ebombe"
   ]
  },
  {
   "cell_type": "code",
   "execution_count": null,
   "id": "6eb364c7-a598-4b1f-a4d7-21c454d03685",
   "metadata": {},
   "outputs": [],
   "source": []
  }
 ],
 "metadata": {
  "kernelspec": {
   "display_name": "Python 3 (ipykernel)",
   "language": "python",
   "name": "python3"
  },
  "language_info": {
   "codemirror_mode": {
    "name": "ipython",
    "version": 3
   },
   "file_extension": ".py",
   "mimetype": "text/x-python",
   "name": "python",
   "nbconvert_exporter": "python",
   "pygments_lexer": "ipython3",
   "version": "3.9.13"
  }
 },
 "nbformat": 4,
 "nbformat_minor": 5
}
